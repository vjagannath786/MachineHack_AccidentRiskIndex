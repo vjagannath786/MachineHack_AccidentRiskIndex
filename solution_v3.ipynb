{
 "cells": [
  {
   "cell_type": "code",
   "execution_count": 7,
   "id": "c100900c",
   "metadata": {},
   "outputs": [],
   "source": [
    "import pandas as pd\n",
    "import numpy as np\n",
    "import matplotlib.pyplot as plt\n",
    "from sklearn.model_selection import KFold, train_test_split\n",
    "\n",
    "\n",
    "from category_encoders import MEstimateEncoder\n",
    "\n",
    "from sklearn.metrics import mean_squared_error\n",
    "\n",
    "\n",
    "\n",
    "from sklearn.ensemble import HistGradientBoostingRegressor\n",
    "\n",
    "import math\n",
    "import seaborn as sns\n",
    "import re\n"
   ]
  },
  {
   "cell_type": "code",
   "execution_count": 80,
   "id": "dc475489",
   "metadata": {},
   "outputs": [],
   "source": [
    "train = pd.read_csv('train.csv')\n",
    "test = pd.read_csv('test.csv')"
   ]
  },
  {
   "cell_type": "code",
   "execution_count": 19,
   "id": "0a0684f1",
   "metadata": {},
   "outputs": [
    {
     "data": {
      "text/plain": [
       "Index(['Accident_ID', 'Police_Force', 'Number_of_Vehicles',\n",
       "       'Number_of_Casualties', 'Date', 'Day_of_Week', 'Time',\n",
       "       'Local_Authority_(District)', 'Local_Authority_(Highway)',\n",
       "       '1st_Road_Class', '1st_Road_Number', 'Road_Type', 'Speed_limit',\n",
       "       '2nd_Road_Class', '2nd_Road_Number',\n",
       "       'Pedestrian_Crossing-Human_Control',\n",
       "       'Pedestrian_Crossing-Physical_Facilities', 'Light_Conditions',\n",
       "       'Weather_Conditions', 'Road_Surface_Conditions',\n",
       "       'Special_Conditions_at_Site', 'Carriageway_Hazards',\n",
       "       'Urban_or_Rural_Area', 'Did_Police_Officer_Attend_Scene_of_Accident',\n",
       "       'state', 'postcode', 'country'],\n",
       "      dtype='object')"
      ]
     },
     "execution_count": 19,
     "metadata": {},
     "output_type": "execute_result"
    }
   ],
   "source": [
    "train.columns"
   ]
  },
  {
   "cell_type": "code",
   "execution_count": 11,
   "id": "e7bc0738",
   "metadata": {},
   "outputs": [],
   "source": [
    "cat_cols = [#'Pedestrian_Crossing-Physical_Facilities', \n",
    "            #'Pedestrian_Crossing-Human_Control',\n",
    "            #'2nd_Road_Class',     \n",
    "            'Police_Force',\n",
    "            'Local_Authority_(District)',\n",
    "            \n",
    "            '1st_Road_Class', \n",
    "            '2nd_Road_Class',\n",
    "            '2nd_Road_Number',\n",
    "            'Did_Police_Officer_Attend_Scene_of_Accident',            \n",
    "            #'Weather_Conditions',\n",
    "            '1st_Road_Number',\n",
    "            #'Road_Type',\n",
    "            #'Light_Conditions',\n",
    "            'Number_of_Vehicles', \n",
    "            'Urban_or_Rural_Area', \n",
    "            #'Special_Conditions_at_Site',                      \n",
    "            #'state',\n",
    "            'Day_of_Week', \n",
    "            'Speed_limit',\n",
    "            #'Time_split',            \n",
    "            #'Month', \n",
    "            'Time_cos',\n",
    "            'Time_sin',\n",
    "            'Month_cos',\n",
    "            'Month_sin'    \n",
    "            \n",
    "           ]\n",
    "           "
   ]
  },
  {
   "cell_type": "code",
   "execution_count": 63,
   "id": "216c5488",
   "metadata": {},
   "outputs": [],
   "source": [
    "def features(df):\n",
    "    \n",
    "    \n",
    "    ## create date features\n",
    "    df['Date'] = pd.to_datetime(df['Date'])\n",
    "    df['Month'] = df['Date'].apply(lambda x : x.month)\n",
    "    df['year'] = df['Date'].apply(lambda x : x.year)\n",
    "    df['day'] = df['Date'].apply(lambda x: x.day)\n",
    "    \n",
    "    \n",
    "    \n",
    "    \n",
    "    # take the hour of time\n",
    "    df['Time'].fillna(2, inplace=True)\n",
    "    \n",
    "    df['Time_hour'] = df['Time'].apply(lambda x : int(str(x).split(':')[0]))\n",
    "    df['Time_split'] = df['Time'].apply(lambda x : int(str(x).split(':')[0])* 60 + int(str(x).split(':')[-1]))\n",
    "    \n",
    "    df[\"Time_norm\"] = 2 * math.pi * df[\"Time_split\"] / df[\"Time_split\"].max()\n",
    "    \n",
    "    df[\"Time_cos\"] = np.cos(df[\"Time_norm\"])\n",
    "    \n",
    "    df[\"Time_sin\"] = np.sin(df[\"Time_norm\"])\n",
    "    \n",
    "    \n",
    "    df['Month_norm'] = 2 * math.pi * df[\"Month\"] / df[\"Month\"].max()\n",
    "    \n",
    "    \n",
    "    df['Month_cos'] = np.cos(df['Month_norm'])\n",
    "    \n",
    "    df['Month_sin'] = np.sin(df['Month_norm'])\n",
    "    \n",
    "    \n",
    "    \n",
    "    df['daylight'] = df['Time_split'].apply(lambda x : 1 if ((x>7) & (x<16)) else 0)\n",
    "    \n",
    "    df['winter'] = df['Month'].apply(lambda x: 1 if ((x == 11) or (x == 12) or (x == 1) or (x == 2) or (x==3)) else 0)\n",
    "    \n",
    "    #do one hot encoding for related features\n",
    "    df_cat = pd.get_dummies(df[cat_cols])\n",
    "    \n",
    "    #df_cat = df[te_cols]\n",
    "    df_cat['Number_of_Casualties'] = df['Number_of_Casualties']\n",
    "    #df_cat['Local_Authority_(Highway)'] = df['Local_Authority_(Highway)']\n",
    "    df_cat['postcode'] = df['postcode']\n",
    "    df_cat['Road_Type'] = df['Road_Type']\n",
    "    #df_cat['postcode_district'] = df['postcode'].apply(lambda x: x.split(' ')[0] + ' ')\n",
    "    \n",
    "    #df_cat['postcode_sector'] = df['postcode'].apply(lambda x: x.split(' ')[0] + ' ' +x.split(' ')[-1][0])\n",
    "    #df_cat['Light_Conditions'] = df['Light_Conditions']\n",
    "    #df_cat['Pedestrian_Crossing-Physical_Facilities'] = df['Pedestrian_Crossing-Physical_Facilities']\n",
    "    \n",
    "    \n",
    "    return df_cat"
   ]
  },
  {
   "cell_type": "code",
   "execution_count": 81,
   "id": "94f6f8d4",
   "metadata": {},
   "outputs": [],
   "source": [
    "x_train = features(train)\n",
    "x_test = features(test)"
   ]
  },
  {
   "cell_type": "code",
   "execution_count": 41,
   "id": "51703602",
   "metadata": {},
   "outputs": [],
   "source": [
    "arr = train['Time_hour']"
   ]
  },
  {
   "cell_type": "code",
   "execution_count": 42,
   "id": "94d5c7a3",
   "metadata": {},
   "outputs": [
    {
     "name": "stderr",
     "output_type": "stream",
     "text": [
      "C:\\Users\\VARUN\\AppData\\Local\\Temp/ipykernel_10112/2417643263.py:26: UserWarning: FixedFormatter should only be used together with FixedLocator\n",
      "  ax.set_xticklabels(ticks)\n"
     ]
    },
    {
     "data": {
      "image/png": "[encoded data removed]",
      "text/plain": [
       "<Figure size 864x576 with 1 Axes>"
      ]
     },
     "metadata": {
      "needs_background": "light"
     },
     "output_type": "display_data"
    }
   ],
   "source": [
    "\n",
    "N = 23\n",
    "bottom = 2\n",
    "\n",
    "# create theta for 24 hours\n",
    "theta = np.linspace(0.0, 2 * np.pi, N, endpoint=False)\n",
    "\n",
    "# make the histogram that bined on 24 hour\n",
    "radii, tick = np.histogram(arr, bins = 23)\n",
    "\n",
    "# width of each bin on the plot\n",
    "width = (2*np.pi) / N\n",
    "\n",
    "# make a polar plot\n",
    "plt.figure(figsize = (12, 8))\n",
    "ax = plt.subplot(111, polar=True)\n",
    "bars = ax.bar(theta, radii, width=width, bottom=bottom)\n",
    "\n",
    "# set the lable go clockwise and start from the top\n",
    "ax.set_theta_zero_location(\"N\")\n",
    "# clockwise\n",
    "ax.set_theta_direction(-1)\n",
    "\n",
    "# set the label\n",
    "ticks = ['0:00', '3:00', '6:00', '9:00', '12:00','15:00','18:00','21:00']\n",
    "#ticks = ['0','1','2','3','4','5','6','7','8','9','10','11','12']\n",
    "ax.set_xticklabels(ticks)\n",
    "\n",
    "plt.show()\n"
   ]
  },
  {
   "cell_type": "markdown",
   "id": "ddb2092a",
   "metadata": {},
   "source": [
    "We can check from time feature that peak hours are between 08 to 09 hours and 17 to 18 hrs"
   ]
  },
  {
   "cell_type": "code",
   "execution_count": 88,
   "id": "29b3eea2",
   "metadata": {},
   "outputs": [],
   "source": [
    "def train_and_evaluate(train, test, params, _eval):\n",
    "    \n",
    "    \n",
    "    \n",
    "    \n",
    "    \n",
    "    \n",
    "    # Split features and target\n",
    "    x = train.drop(['Number_of_Casualties','postcode'], axis = 1)\n",
    "    y = train['Number_of_Casualties']\n",
    "    x_test = test.drop(['Number_of_Casualties','postcode'],axis=1)\n",
    "    \n",
    "    #print(x.shape[0])\n",
    "    # Create out of folds array\n",
    "    oof_predictions = np.zeros(x.shape[0])\n",
    "    # Create test array to store predictions\n",
    "    test_predictions = np.zeros(x_test.shape[0])\n",
    "    # Create a KFold object\n",
    "    kfold = KFold(n_splits = 5, random_state=42, shuffle=True)\n",
    "    \n",
    "    # Iterate through each fold\n",
    "    for fold, (trn_ind, val_ind) in enumerate(kfold.split(x)):\n",
    "        #print(\"TRAIN:\", trn_ind, \"TEST:\", val_ind)\n",
    "        print(f'Training fold {fold + 1}')\n",
    "        x_train, x_val = x.iloc[trn_ind], x.iloc[val_ind]\n",
    "        y_train, y_val = y.iloc[trn_ind], y.iloc[val_ind]\n",
    "        \n",
    "        \n",
    "        \n",
    "        \n",
    "        _cols = ['1st_Road_Number','2nd_Road_Number','Local_Authority_(District)'\n",
    "                 ,'Road_Type']\n",
    "        \n",
    "        \n",
    "        \n",
    "        for col in _cols:\n",
    "            encoder = MEstimateEncoder(m=1000)\n",
    "            encoder.fit(x_train[col], y_train)\n",
    "            x_train[col] = encoder.transform(x_train[col])\n",
    "            x_val[col] = encoder.transform(x_val[col])\n",
    "            x_test[col] = encoder.transform(x_test[col])\n",
    "        \n",
    "        \n",
    "       \n",
    "        \n",
    "        \n",
    "        \n",
    "        \n",
    "        \n",
    "        model = HistGradientBoostingRegressor(**params)\n",
    "        \n",
    "        \n",
    "        \n",
    "        \n",
    "        model.fit(x_train, y_train)\n",
    "        \n",
    "        \n",
    "        \n",
    "        val = model.predict(x_val)\n",
    "        \n",
    "        \n",
    "        print(f' current fold rmse is {mean_squared_error(y_val,val, squared=False)}')\n",
    "        \n",
    "        \n",
    "        \n",
    "        \n",
    "        oof_predictions[val_ind] =  val\n",
    "        \n",
    "        \n",
    "        # Predict the test set\n",
    "        \n",
    "        pred = model.predict(x_test)\n",
    "        \n",
    "        \n",
    "        \n",
    "        \n",
    "        \n",
    "        test_predictions += pred\n",
    "        \n",
    "        \n",
    "        \n",
    "    \n",
    "    mean_score = mean_squared_error(y, oof_predictions, squared=False)\n",
    "    \n",
    "    \n",
    "        \n",
    "    \n",
    "    print(f'Our out of folds mean score is {mean_score}')\n",
    "    \n",
    "    \n",
    "    if _eval:\n",
    "        return mean_score\n",
    "    else:\n",
    "        return [x/5 for x in test_predictions]"
   ]
  },
  {
   "cell_type": "code",
   "execution_count": 89,
   "id": "2b6ba9da",
   "metadata": {},
   "outputs": [],
   "source": [
    "best_params_random = {\n",
    "    'min_samples_leaf': 30,\n",
    "  'max_leaf_nodes': 3,\n",
    "  'max_iter': 420,\n",
    "  'max_depth': 4,\n",
    "  'learning_rate': 0.1,\n",
    "  'l2_regularization': 0.2,\n",
    "    'random_state':42,\n",
    "    \n",
    "}"
   ]
  },
  {
   "cell_type": "code",
   "execution_count": 90,
   "id": "2cf9f06f",
   "metadata": {
    "scrolled": true
   },
   "outputs": [
    {
     "name": "stdout",
     "output_type": "stream",
     "text": [
      "Training fold 1\n"
     ]
    },
    {
     "name": "stderr",
     "output_type": "stream",
     "text": [
      "C:\\Users\\VARUN\\AppData\\Local\\Temp/ipykernel_10112/2665559026.py:39: SettingWithCopyWarning: \n",
      "A value is trying to be set on a copy of a slice from a DataFrame.\n",
      "Try using .loc[row_indexer,col_indexer] = value instead\n",
      "\n",
      "See the caveats in the documentation: https://pandas.pydata.org/pandas-docs/stable/user_guide/indexing.html#returning-a-view-versus-a-copy\n",
      "  x_train[col] = encoder.transform(x_train[col])\n",
      "C:\\Users\\VARUN\\AppData\\Local\\Temp/ipykernel_10112/2665559026.py:40: SettingWithCopyWarning: \n",
      "A value is trying to be set on a copy of a slice from a DataFrame.\n",
      "Try using .loc[row_indexer,col_indexer] = value instead\n",
      "\n",
      "See the caveats in the documentation: https://pandas.pydata.org/pandas-docs/stable/user_guide/indexing.html#returning-a-view-versus-a-copy\n",
      "  x_val[col] = encoder.transform(x_val[col])\n"
     ]
    },
    {
     "name": "stdout",
     "output_type": "stream",
     "text": [
      " current fold rmse is 0.8119001909158898\n",
      "Training fold 2\n"
     ]
    },
    {
     "name": "stderr",
     "output_type": "stream",
     "text": [
      "C:\\Users\\VARUN\\AppData\\Local\\Temp/ipykernel_10112/2665559026.py:39: SettingWithCopyWarning: \n",
      "A value is trying to be set on a copy of a slice from a DataFrame.\n",
      "Try using .loc[row_indexer,col_indexer] = value instead\n",
      "\n",
      "See the caveats in the documentation: https://pandas.pydata.org/pandas-docs/stable/user_guide/indexing.html#returning-a-view-versus-a-copy\n",
      "  x_train[col] = encoder.transform(x_train[col])\n",
      "C:\\Users\\VARUN\\AppData\\Local\\Temp/ipykernel_10112/2665559026.py:40: SettingWithCopyWarning: \n",
      "A value is trying to be set on a copy of a slice from a DataFrame.\n",
      "Try using .loc[row_indexer,col_indexer] = value instead\n",
      "\n",
      "See the caveats in the documentation: https://pandas.pydata.org/pandas-docs/stable/user_guide/indexing.html#returning-a-view-versus-a-copy\n",
      "  x_val[col] = encoder.transform(x_val[col])\n"
     ]
    },
    {
     "name": "stdout",
     "output_type": "stream",
     "text": [
      " current fold rmse is 0.8098117408739018\n",
      "Training fold 3\n"
     ]
    },
    {
     "name": "stderr",
     "output_type": "stream",
     "text": [
      "C:\\Users\\VARUN\\AppData\\Local\\Temp/ipykernel_10112/2665559026.py:39: SettingWithCopyWarning: \n",
      "A value is trying to be set on a copy of a slice from a DataFrame.\n",
      "Try using .loc[row_indexer,col_indexer] = value instead\n",
      "\n",
      "See the caveats in the documentation: https://pandas.pydata.org/pandas-docs/stable/user_guide/indexing.html#returning-a-view-versus-a-copy\n",
      "  x_train[col] = encoder.transform(x_train[col])\n",
      "C:\\Users\\VARUN\\AppData\\Local\\Temp/ipykernel_10112/2665559026.py:40: SettingWithCopyWarning: \n",
      "A value is trying to be set on a copy of a slice from a DataFrame.\n",
      "Try using .loc[row_indexer,col_indexer] = value instead\n",
      "\n",
      "See the caveats in the documentation: https://pandas.pydata.org/pandas-docs/stable/user_guide/indexing.html#returning-a-view-versus-a-copy\n",
      "  x_val[col] = encoder.transform(x_val[col])\n"
     ]
    },
    {
     "name": "stdout",
     "output_type": "stream",
     "text": [
      " current fold rmse is 0.807168143255788\n",
      "Training fold 4\n"
     ]
    },
    {
     "name": "stderr",
     "output_type": "stream",
     "text": [
      "C:\\Users\\VARUN\\AppData\\Local\\Temp/ipykernel_10112/2665559026.py:39: SettingWithCopyWarning: \n",
      "A value is trying to be set on a copy of a slice from a DataFrame.\n",
      "Try using .loc[row_indexer,col_indexer] = value instead\n",
      "\n",
      "See the caveats in the documentation: https://pandas.pydata.org/pandas-docs/stable/user_guide/indexing.html#returning-a-view-versus-a-copy\n",
      "  x_train[col] = encoder.transform(x_train[col])\n",
      "C:\\Users\\VARUN\\AppData\\Local\\Temp/ipykernel_10112/2665559026.py:40: SettingWithCopyWarning: \n",
      "A value is trying to be set on a copy of a slice from a DataFrame.\n",
      "Try using .loc[row_indexer,col_indexer] = value instead\n",
      "\n",
      "See the caveats in the documentation: https://pandas.pydata.org/pandas-docs/stable/user_guide/indexing.html#returning-a-view-versus-a-copy\n",
      "  x_val[col] = encoder.transform(x_val[col])\n"
     ]
    },
    {
     "name": "stdout",
     "output_type": "stream",
     "text": [
      " current fold rmse is 0.8103909911594669\n",
      "Training fold 5\n"
     ]
    },
    {
     "name": "stderr",
     "output_type": "stream",
     "text": [
      "C:\\Users\\VARUN\\AppData\\Local\\Temp/ipykernel_10112/2665559026.py:39: SettingWithCopyWarning: \n",
      "A value is trying to be set on a copy of a slice from a DataFrame.\n",
      "Try using .loc[row_indexer,col_indexer] = value instead\n",
      "\n",
      "See the caveats in the documentation: https://pandas.pydata.org/pandas-docs/stable/user_guide/indexing.html#returning-a-view-versus-a-copy\n",
      "  x_train[col] = encoder.transform(x_train[col])\n",
      "C:\\Users\\VARUN\\AppData\\Local\\Temp/ipykernel_10112/2665559026.py:40: SettingWithCopyWarning: \n",
      "A value is trying to be set on a copy of a slice from a DataFrame.\n",
      "Try using .loc[row_indexer,col_indexer] = value instead\n",
      "\n",
      "See the caveats in the documentation: https://pandas.pydata.org/pandas-docs/stable/user_guide/indexing.html#returning-a-view-versus-a-copy\n",
      "  x_val[col] = encoder.transform(x_val[col])\n"
     ]
    },
    {
     "name": "stdout",
     "output_type": "stream",
     "text": [
      " current fold rmse is 0.8094338020056736\n",
      "Our out of folds mean score is 0.809742435849848\n"
     ]
    }
   ],
   "source": [
    "test_predictions = train_and_evaluate(x_train, x_test, best_params_random, False)"
   ]
  },
  {
   "cell_type": "code",
   "execution_count": 91,
   "id": "0ee82726",
   "metadata": {},
   "outputs": [],
   "source": [
    "x_test['Number_of_Casualties'] = test_predictions"
   ]
  },
  {
   "cell_type": "code",
   "execution_count": 92,
   "id": "624cab49",
   "metadata": {},
   "outputs": [],
   "source": [
    "_aggs = {\n",
    "          'Number_of_Casualties': [ np.mean],\n",
    "          \n",
    "        }"
   ]
  },
  {
   "cell_type": "code",
   "execution_count": 93,
   "id": "57019a81",
   "metadata": {},
   "outputs": [],
   "source": [
    "#x_train['postcode'] = train['postcode']\n",
    "#x_test['postcode'] = test['postcode']"
   ]
  },
  {
   "cell_type": "code",
   "execution_count": 94,
   "id": "984b5710",
   "metadata": {},
   "outputs": [],
   "source": [
    "train_df = x_train.groupby(['postcode']).agg(_aggs).reset_index()"
   ]
  },
  {
   "cell_type": "code",
   "execution_count": 95,
   "id": "943e45bd",
   "metadata": {},
   "outputs": [],
   "source": [
    "test_df = x_test.groupby(['postcode']).agg(_aggs).reset_index()"
   ]
  },
  {
   "cell_type": "code",
   "execution_count": 96,
   "id": "dc225234",
   "metadata": {},
   "outputs": [],
   "source": [
    "test_df.columns = ['postcode','Number_of_Casualties']"
   ]
  },
  {
   "cell_type": "code",
   "execution_count": 97,
   "id": "8ba3d87b",
   "metadata": {},
   "outputs": [
    {
     "data": {
      "text/html": [
       "<div>\n",
       "<style scoped>\n",
       "    .dataframe tbody tr th:only-of-type {\n",
       "        vertical-align: middle;\n",
       "    }\n",
       "\n",
       "    .dataframe tbody tr th {\n",
       "        vertical-align: top;\n",
       "    }\n",
       "\n",
       "    .dataframe thead th {\n",
       "        text-align: right;\n",
       "    }\n",
       "</style>\n",
       "<table border=\"1\" class=\"dataframe\">\n",
       "  <thead>\n",
       "    <tr style=\"text-align: right;\">\n",
       "      <th></th>\n",
       "      <th>postcode</th>\n",
       "      <th>Number_of_Casualties</th>\n",
       "    </tr>\n",
       "  </thead>\n",
       "  <tbody>\n",
       "    <tr>\n",
       "      <th>0</th>\n",
       "      <td>AB10 1AU</td>\n",
       "      <td>1.431995</td>\n",
       "    </tr>\n",
       "    <tr>\n",
       "      <th>1</th>\n",
       "      <td>AB10 1PG</td>\n",
       "      <td>1.366499</td>\n",
       "    </tr>\n",
       "    <tr>\n",
       "      <th>2</th>\n",
       "      <td>AB10 1TT</td>\n",
       "      <td>1.537938</td>\n",
       "    </tr>\n",
       "    <tr>\n",
       "      <th>3</th>\n",
       "      <td>AB10 1YP</td>\n",
       "      <td>1.442171</td>\n",
       "    </tr>\n",
       "    <tr>\n",
       "      <th>4</th>\n",
       "      <td>AB10 6LQ</td>\n",
       "      <td>1.385022</td>\n",
       "    </tr>\n",
       "    <tr>\n",
       "      <th>...</th>\n",
       "      <td>...</td>\n",
       "      <td>...</td>\n",
       "    </tr>\n",
       "    <tr>\n",
       "      <th>49767</th>\n",
       "      <td>ZE2 9LZ</td>\n",
       "      <td>1.325967</td>\n",
       "    </tr>\n",
       "    <tr>\n",
       "      <th>49768</th>\n",
       "      <td>ZE2 9RE</td>\n",
       "      <td>1.356500</td>\n",
       "    </tr>\n",
       "    <tr>\n",
       "      <th>49769</th>\n",
       "      <td>ZE2 9RJ</td>\n",
       "      <td>1.272555</td>\n",
       "    </tr>\n",
       "    <tr>\n",
       "      <th>49770</th>\n",
       "      <td>ZE2 9SB</td>\n",
       "      <td>1.573937</td>\n",
       "    </tr>\n",
       "    <tr>\n",
       "      <th>49771</th>\n",
       "      <td>ZE2 9SD</td>\n",
       "      <td>1.359654</td>\n",
       "    </tr>\n",
       "  </tbody>\n",
       "</table>\n",
       "<p>49772 rows × 2 columns</p>\n",
       "</div>"
      ],
      "text/plain": [
       "       postcode  Number_of_Casualties\n",
       "0      AB10 1AU              1.431995\n",
       "1      AB10 1PG              1.366499\n",
       "2      AB10 1TT              1.537938\n",
       "3      AB10 1YP              1.442171\n",
       "4      AB10 6LQ              1.385022\n",
       "...         ...                   ...\n",
       "49767   ZE2 9LZ              1.325967\n",
       "49768   ZE2 9RE              1.356500\n",
       "49769   ZE2 9RJ              1.272555\n",
       "49770   ZE2 9SB              1.573937\n",
       "49771   ZE2 9SD              1.359654\n",
       "\n",
       "[49772 rows x 2 columns]"
      ]
     },
     "execution_count": 97,
     "metadata": {},
     "output_type": "execute_result"
    }
   ],
   "source": [
    "test_df"
   ]
  },
  {
   "cell_type": "code",
   "execution_count": 98,
   "id": "24a15e87",
   "metadata": {},
   "outputs": [],
   "source": [
    "submission_df = test_df[['postcode','Number_of_Casualties']]"
   ]
  },
  {
   "cell_type": "code",
   "execution_count": 99,
   "id": "adc50aa7",
   "metadata": {},
   "outputs": [],
   "source": [
    "submission_df.columns = ['postcode','Accident_risk_index']"
   ]
  },
  {
   "cell_type": "code",
   "execution_count": 100,
   "id": "8ff0742f",
   "metadata": {},
   "outputs": [],
   "source": [
    "submission_df.to_csv('my_submission_v23.csv', index=False)"
   ]
  },
  {
   "cell_type": "code",
   "execution_count": 101,
   "id": "9b7e5bda",
   "metadata": {},
   "outputs": [
    {
     "data": {
      "text/plain": [
       "(49772, 2)"
      ]
     },
     "execution_count": 101,
     "metadata": {},
     "output_type": "execute_result"
    }
   ],
   "source": [
    "submission_df.shape"
   ]
  },
  {
   "cell_type": "code",
   "execution_count": null,
   "id": "60a3800d",
   "metadata": {},
   "outputs": [],
   "source": []
  }
 ],
 "metadata": {
  "kernelspec": {
   "display_name": "Python 3 (ipykernel)",
   "language": "python",
   "name": "python3"
  },
  "language_info": {
   "codemirror_mode": {
    "name": "ipython",
    "version": 3
   },
   "file_extension": ".py",
   "mimetype": "text/x-python",
   "name": "python",
   "nbconvert_exporter": "python",
   "pygments_lexer": "ipython3",
   "version": "3.9.6"
  }
 },
 "nbformat": 4,
 "nbformat_minor": 5
}
